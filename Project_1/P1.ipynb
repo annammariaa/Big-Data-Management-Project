{
 "cells": [
  {
   "cell_type": "markdown",
   "metadata": {},
   "source": [
    "# Big Data Management Project 1:\n",
    "## Analyzing New York City Taxi Data"
   ]
  },
  {
   "cell_type": "code",
   "execution_count": 1,
   "metadata": {},
   "outputs": [
    {
     "name": "stdout",
     "output_type": "stream",
     "text": [
      "Requirement already satisfied: shapely in /opt/conda/lib/python3.11/site-packages (2.0.7)\n",
      "Requirement already satisfied: numpy<3,>=1.14 in /opt/conda/lib/python3.11/site-packages (from shapely) (1.26.4)\n"
     ]
    }
   ],
   "source": [
    "!pip install shapely"
   ]
  },
  {
   "cell_type": "code",
   "execution_count": 2,
   "metadata": {},
   "outputs": [],
   "source": [
    "from pyspark.sql import SparkSession\n",
    "from pyspark.sql.functions import udf, unix_timestamp\n",
    "from pyspark.sql.types import IntegerType\n",
    "\n",
    "import json\n",
    "\n",
    "from shapely.geometry import shape, Point"
   ]
  },
  {
   "cell_type": "code",
   "execution_count": 3,
   "metadata": {},
   "outputs": [],
   "source": [
    "spark = (SparkSession.builder\n",
    "                    .appName('BDM_Project1')\n",
    "                    .enableHiveSupport()  # Enables Hive support, persistent Hive metastore\n",
    "                    .getOrCreate()\n",
    "        )"
   ]
  },
  {
   "cell_type": "markdown",
   "metadata": {},
   "source": [
    "### NYC Borough Data"
   ]
  },
  {
   "cell_type": "code",
   "execution_count": 4,
   "metadata": {},
   "outputs": [],
   "source": [
    "with open('input/nyc-boroughs.geojson') as f:\n",
    "    geo_data = json.load(f)\n",
    "\n",
    "# Broadcasting data to workers\n",
    "broadcast_geo_data = spark.sparkContext.broadcast(geo_data)\n",
    "\n",
    "# TODO: is using a dictionary fine? \"dataframe can be created out of it\"\n",
    "# Creating a dictionary of borough codes and polygons within the borough\n",
    "polygons = {}\n",
    "b_names = {} # borough names by code\n",
    "\n",
    "for feature in broadcast_geo_data.value['features']:\n",
    "    \n",
    "    code = feature['properties']['boroughCode']\n",
    "    name = feature['properties']['borough']\n",
    "\n",
    "    if code not in polygons:\n",
    "        polygons[code] = []\n",
    "        b_names[code] = name\n",
    "    \n",
    "    polygons[code].append(shape(feature['geometry']))\n",
    "\n",
    "# Sorting borough polygons by area\n",
    "for code in polygons: \n",
    "    polygons[code] = sorted(\n",
    "        polygons[code], key=lambda x: x.area, reverse=True\n",
    "    )\n",
    "\n",
    "# also sort boroughs by total area?\n",
    "#borough_total_areas = {code: sum(poly.area for poly in polys) for code, polys in polygons.items()}\n",
    "#sorted_boroughs = sorted(borough_total_areas.keys(), key=lambda x: borough_total_areas[x], reverse=True)\n",
    "#polygons = {code: polygons[code] for code in sorted_boroughs}\n"
   ]
  },
  {
   "cell_type": "code",
   "execution_count": 5,
   "metadata": {},
   "outputs": [],
   "source": [
    "# UDF: longitude, latitude -> borough\n",
    "def get_borough(long, lat):\n",
    "    point = Point(long, lat)\n",
    "    \n",
    "    for code, pols in polygons.items():\n",
    "        for polygon in pols:\n",
    "            if polygon.contains(point):\n",
    "                return code\n",
    "    \n",
    "    return None\n",
    "\n",
    "get_borough_udf = udf(get_borough, IntegerType())"
   ]
  },
  {
   "cell_type": "markdown",
   "metadata": {},
   "source": [
    "### NYC Taxi Data"
   ]
  },
  {
   "cell_type": "code",
   "execution_count": 6,
   "metadata": {},
   "outputs": [
    {
     "name": "stdout",
     "output_type": "stream",
     "text": [
      "+--------------------------------+---------------+----------------+---------------+----------------+-----------------+----------------+----------+----------+--------+--------------+---------------+\n",
      "|hack_license                    |pickup_latitude|pickup_longitude|pickup_datetime|dropoff_latitude|dropoff_longitude|dropoff_datetime|pickup_ts |dropoff_ts|duration|pickup_borough|dropoff_borough|\n",
      "+--------------------------------+---------------+----------------+---------------+----------------+-----------------+----------------+----------+----------+--------+--------------+---------------+\n",
      "|BA96DE419E711691B9445D6A6307C170|40.757977      |-73.978165      |01-01-13 15:11 |40.751171       |-73.989838       |01-01-13 15:18  |1357053060|1357053480|420     |1             |1              |\n",
      "|9FD8F69F0804BDB5549F40E9DA1BE472|40.731781      |-74.006683      |06-01-13 00:18 |40.75066        |-73.994499       |06-01-13 00:22  |1357431480|1357431720|240     |1             |1              |\n",
      "|9FD8F69F0804BDB5549F40E9DA1BE472|40.73777       |-74.004707      |05-01-13 18:49 |40.726002       |-74.009834       |05-01-13 18:54  |1357411740|1357412040|300     |1             |1              |\n",
      "+--------------------------------+---------------+----------------+---------------+----------------+-----------------+----------------+----------+----------+--------+--------------+---------------+\n",
      "only showing top 3 rows\n",
      "\n"
     ]
    }
   ],
   "source": [
    "taxi_df = (spark.read\n",
    "             .option(\"sep\", \",\")\n",
    "             .option(\"header\", True)\n",
    "             .option(\"inferSchema\", True)\n",
    "             .csv(\"input/Sample NYC Data.csv\")\n",
    "            )\n",
    "\n",
    "# Selecting only necessary columns\n",
    "taxi_df = taxi_df.select(\n",
    "    \"hack_license\",\n",
    "    \"pickup_latitude\",\n",
    "    \"pickup_longitude\",\n",
    "    \"pickup_datetime\",\n",
    "    \"dropoff_latitude\",\n",
    "    \"dropoff_longitude\",\n",
    "    \"dropoff_datetime\" \n",
    ")\n",
    "\n",
    "# Converting datetime to unix timestamp (seconds)\n",
    "taxi_df = taxi_df.withColumn(\n",
    "    \"pickup_ts\", unix_timestamp(\"pickup_datetime\", \"dd-MM-yy HH:mm\")\n",
    ").withColumn(\n",
    "    \"dropoff_ts\", unix_timestamp(\"dropoff_datetime\", \"dd-MM-yy HH:mm\")\n",
    ")\n",
    "\n",
    "# Calculating ride duration (seconds)\n",
    "taxi_df = taxi_df.withColumn(\n",
    "    \"duration\", (taxi_df[\"dropoff_ts\"] - taxi_df[\"pickup_ts\"])\n",
    ")\n",
    "\n",
    "# Filtering out rides longer than 4h or with negative duration\n",
    "taxi_df = taxi_df.filter((taxi_df[\"duration\"] > 0) & (taxi_df[\"duration\"] <= 4 * 60 * 60))\n",
    "\n",
    "# Add pick up and drop off boroughs to taxi data\n",
    "taxi_df = taxi_df.withColumn(\n",
    "    \"pickup_borough\", get_borough_udf(\"pickup_longitude\", \"pickup_latitude\")\n",
    ").withColumn(\n",
    "    \"dropoff_borough\", get_borough_udf(\"dropoff_longitude\", \"dropoff_latitude\")\n",
    ")\n",
    "taxi_df.show(3, truncate=False)"
   ]
  },
  {
   "cell_type": "markdown",
   "metadata": {
    "jp-MarkdownHeadingCollapsed": true
   },
   "source": [
    "### Query 1\n",
    "Utilization: idle time per taxi"
   ]
  },
  {
   "cell_type": "code",
   "execution_count": null,
   "metadata": {},
   "outputs": [],
   "source": []
  },
  {
   "cell_type": "markdown",
   "metadata": {
    "jp-MarkdownHeadingCollapsed": true
   },
   "source": [
    "### Query 2\n",
    "The average time it takes for a taxi to find its next fare(trip) per destination borough"
   ]
  },
  {
   "cell_type": "code",
   "execution_count": null,
   "metadata": {},
   "outputs": [],
   "source": []
  },
  {
   "cell_type": "markdown",
   "metadata": {
    "jp-MarkdownHeadingCollapsed": true
   },
   "source": [
    "### Query 3\n",
    "The number of trips that started and ended within the same borough"
   ]
  },
  {
   "cell_type": "code",
   "execution_count": null,
   "metadata": {},
   "outputs": [],
   "source": []
  },
  {
   "cell_type": "markdown",
   "metadata": {
    "jp-MarkdownHeadingCollapsed": true
   },
   "source": [
    "### Query 4\n",
    "The number of trips that started in one borough and ended in another one"
   ]
  },
  {
   "cell_type": "code",
   "execution_count": null,
   "metadata": {},
   "outputs": [],
   "source": []
  }
 ],
 "metadata": {
  "application/vnd.databricks.v1+notebook": {
   "dashboards": [],
   "language": "python",
   "notebookMetadata": {
    "pythonIndentUnit": 2
   },
   "notebookName": "Practice session - Dataframe",
   "notebookOrigID": 1061204080530756,
   "widgets": {}
  },
  "kernelspec": {
   "display_name": "Python 3 (ipykernel)",
   "language": "python",
   "name": "python3"
  },
  "language_info": {
   "codemirror_mode": {
    "name": "ipython",
    "version": 3
   },
   "file_extension": ".py",
   "mimetype": "text/x-python",
   "name": "python",
   "nbconvert_exporter": "python",
   "pygments_lexer": "ipython3",
   "version": "3.11.10"
  }
 },
 "nbformat": 4,
 "nbformat_minor": 4
}